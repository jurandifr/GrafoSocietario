{
  "cells": [
    {
      "attachments": {},
      "cell_type": "markdown",
      "metadata": {
        "colab_type": "text",
        "id": "view-in-github"
      },
      "source": [
        "<a href=\"https://colab.research.google.com/github/jurandi82/GrafoSocietario/blob/main/GrafoSocietario2.ipynb\" target=\"_parent\"><img src=\"https://colab.research.google.com/assets/colab-badge.svg\" alt=\"Open In Colab\"/></a>"
      ]
    },
    {
      "cell_type": "markdown",
      "metadata": {
        "id": "daFav3GcQLg4"
      },
      "source": [
        "# Consulta Grafo Societário"
      ]
    },
    {
      "cell_type": "code",
      "execution_count": 1,
      "metadata": {
        "colab": {
          "base_uri": "https://localhost:8080/"
        },
        "id": "EwCjacdbBzS5",
        "outputId": "1af930d7-a5d1-473b-e5f7-cc9c73c3bc8a"
      },
      "outputs": [],
      "source": [
        "import pandas as pd\n",
        "import networkx as nx\n",
        "import ipywidgets as wd\n",
        "import sqlalchemy as sa\n",
        "from tqdm.notebook import tqdm\n",
        "\n",
        "#uri_sqlite ='sqlite:///base_receita20230315.db'\n",
        "uri_sqlite ='sqlite:///grapho20230315.db'\n",
        "engine = sa.create_engine(uri_sqlite)\n",
        "engine.connect().close()"
      ]
    },
    {
      "cell_type": "code",
      "execution_count": 8,
      "metadata": {},
      "outputs": [
        {
          "name": "stdout",
          "output_type": "stream",
          "text": [
            "Lendo database... leva cerca de 2 minutos\n"
          ]
        },
        {
          "data": {
            "application/vnd.jupyter.widget-view+json": {
              "model_id": "73f0f3d7a2cd4ac1aa570cbc829f7168",
              "version_major": 2,
              "version_minor": 0
            },
            "text/plain": [
              "  0%|          | 0/22708202 [00:00<?, ?it/s]"
            ]
          },
          "metadata": {},
          "output_type": "display_data"
        },
        {
          "name": "stdout",
          "output_type": "stream",
          "text": [
            "Número de registros carregados: 16\n"
          ]
        }
      ],
      "source": [
        "G = nx.Graph()\n",
        "print(\"Lendo database... leva cerca de 2 minutos\")\n",
        "with engine.connect() as db:\n",
        "    query ='''SELECT COUNT() FROM grapho;'''\n",
        "    total = db.execute(sa.text(query)).fetchall()[0][0]\n",
        "    query ='''SELECT A,B FROM grapho limit 10;'''\n",
        "    cursor = db.execute(sa.text(query))\n",
        "    for i in tqdm(cursor,total=total):\n",
        "        G.add_edge(*i)\n",
        "print(\"Número de registros carregados: {:,}\".format(G.number_of_nodes()).replace(\",\",\".\"))"
      ]
    },
    {
      "cell_type": "code",
      "execution_count": 39,
      "metadata": {},
      "outputs": [],
      "source": [
        "def validar(pesquisa):\n",
        "    for node in tqdm(G.nodes()):\n",
        "        if node.startswith(pesquisa):\n",
        "            return node\n",
        "    return \"\""
      ]
    },
    {
      "cell_type": "code",
      "execution_count": 47,
      "metadata": {},
      "outputs": [],
      "source": [
        "def localizar(inicio, fim):\n",
        "    inicio, fim = validar(inicio), validar(fim)\n",
        "    print(f\" Inicio validado: {inicio} \\n Fim validado {fim}\\n\")\n",
        "    if inicio !=\"\" and fim !=\"\":\n",
        "        if not nx.has_path(G,inicio ,fim):\n",
        "            print(\"Caminho não encontrado\")\n",
        "        else:\n",
        "            print(\"Caminho localizado \\n\"+\"*\"*64)\n",
        "            print(*nx.shortest_path(G,source=fim,target=inicio),sep = \"\\n\")\n",
        "        print(\"\\n\")"
      ]
    },
    {
      "cell_type": "code",
      "execution_count": 50,
      "metadata": {},
      "outputs": [],
      "source": [
        "lb_alvo = wd.Label(\"ALVO:\")\n",
        "tx_alvo = wd.Text(value='TELEFONICA')\n",
        "box_alvo=wd.HBox([lb_alvo,tx_alvo])\n",
        "\n",
        "lb_pesquisa = wd.Label(\"ORIGEM:\")\n",
        "tx_pesquisa = wd.Text(value='NESTLE')\n",
        "bt_pesquisa = wd.Button(description=\"PESQUISAR\", icon='search')\n",
        "out = wd.Output(layout={'border': '1px solid black'})\n",
        "box_origem=wd.HBox([lb_pesquisa,tx_pesquisa,bt_pesquisa])\n",
        "box=wd.VBox([box_alvo,box_origem,out])\n",
        "\n",
        "def executa(self):\n",
        "    with out:\n",
        "        out.clear_output()\n",
        "        localizar(tx_alvo.value,tx_pesquisa.value)\n",
        "\n",
        "bt_pesquisa.on_click(executa)"
      ]
    },
    {
      "attachments": {},
      "cell_type": "markdown",
      "metadata": {},
      "source": [
        "# testes"
      ]
    },
    {
      "cell_type": "code",
      "execution_count": 51,
      "metadata": {},
      "outputs": [
        {
          "name": "stdout",
          "output_type": "stream",
          "text": [
            "Sugestoes de pesquisa: Nestle, Telefonica,Odebrecht,Wassef...\n",
            "\n"
          ]
        },
        {
          "data": {
            "application/vnd.jupyter.widget-view+json": {
              "model_id": "4c08199bf54e4d809faff13e1ece1209",
              "version_major": 2,
              "version_minor": 0
            },
            "text/plain": [
              "VBox(children=(HBox(children=(Label(value='ALVO:'), Text(value='TELEFONICA'))), HBox(children=(Label(value='OR…"
            ]
          },
          "metadata": {},
          "output_type": "display_data"
        }
      ],
      "source": [
        "print(\"Sugestoes de pesquisa: Nestle, Telefonica,Odebrecht,Wassef...\\n\")\n",
        "display(box)"
      ]
    },
    {
      "cell_type": "code",
      "execution_count": null,
      "metadata": {},
      "outputs": [],
      "source": []
    },
    {
      "attachments": {},
      "cell_type": "markdown",
      "metadata": {},
      "source": [
        "# Antigo"
      ]
    },
    {
      "cell_type": "markdown",
      "metadata": {
        "id": "_YQwy9sAS3eu"
      },
      "source": [
        "## Esta aplicação demonstra a funcionalidade da estrutura de grafos na pesquisa de relações\n",
        "### Para este código foi utilizado o recorte de 2 milhões de Empresas e Socios\n",
        "#### O processamento da base total permite encontrar relações societárias entre quaisquer empresas. <br> Podemos definir a profundidade de pesquisa de modo a encontrar empresas com indicio de \"ponte\""
      ]
    },
    {
      "cell_type": "code",
      "execution_count": 4,
      "metadata": {
        "colab": {
          "base_uri": "https://localhost:8080/",
          "height": 108
        },
        "id": "PrWG7uQ6QSRV",
        "outputId": "dce64adc-f54d-4ce9-b9bb-86b5e1974d94"
      },
      "outputs": [
        {
          "name": "stdout",
          "output_type": "stream",
          "text": [
            "Lendo arquivo... leva cerca de 40 segundos\n",
            "Número de registros carregados: 2.022.573\n",
            "Gerando matriz de dados... leva outros 40 segundos\n",
            "Pronto para seguir\n",
            "\n"
          ]
        }
      ],
      "source": [
        "import pandas as pd\n",
        "import networkx as nx\n",
        "import ipywidgets as wd\n",
        "\n",
        "arquivo='socio_graph_2020ABR.gz'\n",
        "#arquivo='/content/drive/MyDrive/socio_graph_2020ABR.gz'\n",
        "\n",
        "print(\"Lendo arquivo... leva cerca de 40 segundos\")\n",
        "G = nx.read_edgelist(arquivo, delimiter='\\t', encoding='utf-8')\n",
        "print(\"Número de registros carregados: {:,}\".format(G.number_of_nodes()).replace(\",\",\".\"))\n",
        "print(\"Gerando matriz de dados... leva outros 40 segundos\")\n",
        "dataset=nx.to_pandas_edgelist(G)\n",
        "\n",
        "def validar(pesquisa):\n",
        "    from sys import exit\n",
        "    h=dataset[dataset.source.str.contains(pesquisa.upper())]\n",
        "    if h.size==0:\n",
        "        h=dataset[dataset.target.str.contains(pesquisa.upper())]\n",
        "    if h.size==0:\n",
        "        exit(\"Não localizado\")\n",
        "    return h.iloc[0][0]\n",
        "\n",
        "def localizar(inicio, fim):\n",
        "    inicio, fim = validar(inicio), validar(fim)\n",
        "    if not nx.has_path(G,inicio ,fim):\n",
        "        print(\"Caminho não encontrado\")\n",
        "    else:\n",
        "        print(\"Caminho localizado \\n\"+\"*\"*64)\n",
        "        print(*nx.shortest_path(G,source=fim,target=inicio),sep = \"\\n\")\n",
        "    print(\"\\n\")\n",
        "\n",
        "print(\"Pronto para seguir\\n\")\n",
        "\n",
        "lb_alvo = wd.Label(\"ALVO:\")\n",
        "tx_alvo = wd.Text(value='TELEFONICA')\n",
        "box_alvo=wd.HBox([lb_alvo,tx_alvo])\n",
        "\n",
        "lb_pesquisa = wd.Label(\"ORIGEM:\")\n",
        "tx_pesquisa = wd.Text(value='NESTLE')\n",
        "bt_pesquisa = wd.Button(description=\"PESQUISAR\", icon='search')\n",
        "out = wd.Output(layout={'border': '1px solid black'})\n",
        "box_origem=wd.HBox([lb_pesquisa,tx_pesquisa,bt_pesquisa])\n",
        "box=wd.VBox([box_alvo,box_origem,out])\n",
        "\n",
        "def executa(self):\n",
        "    with out:\n",
        "        out.clear_output()\n",
        "        localizar(tx_alvo.value,tx_pesquisa.value)\n",
        "\n",
        "bt_pesquisa.on_click(executa)"
      ]
    },
    {
      "cell_type": "markdown",
      "metadata": {
        "id": "SQnRZOx9TBgo"
      },
      "source": [
        "## Use a caixa abaixo para pesquisa"
      ]
    },
    {
      "cell_type": "code",
      "execution_count": 5,
      "metadata": {
        "colab": {
          "base_uri": "https://localhost:8080/",
          "height": 210,
          "referenced_widgets": [
            "9ff3efba3bc4476c89892649a49c1818",
            "be4ee7a6298c4ac091472b12472da5e9",
            "9f9bc08ab1b3458fa4494c55f7310ee9",
            "b64c53299fd34851b279f5170913cf8c",
            "db1fd020eb8142ba9e197fb59735c67a",
            "bce02350b5da46c18df9e40b5b7f138c",
            "c76c0b471aa546e298cdd3338a03f21b",
            "6b81903bd1a24ffdb7ee5738536d102a",
            "042f8927985b42548d5b3e0b8b7d6183",
            "e401d46cd7574827bf97c9860ca3c427",
            "bda20907ae7947e7a4fc257c42bd800c",
            "0fb5dd84a7fb4d919277959da6cf0f66",
            "27eb82b58caa47639f8b31b28e82f464",
            "41af83a9559f403a943330fa97bf2019",
            "24ceba96ae024c0fa27559e31fab4515",
            "a520078329814c7e97f615a3d61d3131",
            "82f3cd0cadd844ee86a626a0bfbc537c",
            "1043f7f473e0423cbcef4afb6b4af59d",
            "ef2b1960c8914f19988072491971bdd4",
            "a5ad18842c2d41278fe56a4a6842ff16",
            "13089ddc04054150914d431da367f087",
            "924513a41f6d4ce7897a0895b7940455",
            "c13024d14129477098e41be26736452e"
          ]
        },
        "id": "gkJrxslORo9p",
        "outputId": "43483cb4-2f5d-4208-bda0-d517fc771cd7"
      },
      "outputs": [
        {
          "name": "stdout",
          "output_type": "stream",
          "text": [
            "Sugestoes de pesquisa: Nestle, Telefonica,Odebrecht,Wassef...\n",
            "\n"
          ]
        },
        {
          "data": {
            "application/vnd.jupyter.widget-view+json": {
              "model_id": "9ff3efba3bc4476c89892649a49c1818",
              "version_major": 2,
              "version_minor": 0
            },
            "text/plain": [
              "VBox(children=(HBox(children=(Label(value='ALVO:'), Text(value='TELEFONICA'))), HBox(children=(Label(value='OR…"
            ]
          },
          "metadata": {},
          "output_type": "display_data"
        }
      ],
      "source": [
        "print(\"Sugestoes de pesquisa: Nestle, Telefonica,Odebrecht,Wassef...\\n\")\n",
        "display(box)"
      ]
    },
    {
      "cell_type": "code",
      "execution_count": null,
      "metadata": {
        "id": "eJt_rrsQTTks"
      },
      "outputs": [],
      "source": []
    }
  ],
  "metadata": {
    "colab": {
      "authorship_tag": "ABX9TyPf1n0V9dlb+9wdUQcbYO4Z",
      "include_colab_link": true,
      "mount_file_id": "147RuRqvRuJXDI1eapfQ2-RHFZ-SpNVXi",
      "name": "GrafoSocietario.ipynb",
      "provenance": []
    },
    "kernelspec": {
      "display_name": "Python 3",
      "name": "python3"
    },
    "language_info": {
      "codemirror_mode": {
        "name": "ipython",
        "version": 3
      },
      "file_extension": ".py",
      "mimetype": "text/x-python",
      "name": "python",
      "nbconvert_exporter": "python",
      "pygments_lexer": "ipython3",
      "version": "3.10.10"
    },
    "widgets": {
      "application/vnd.jupyter.widget-state+json": {
        "042f8927985b42548d5b3e0b8b7d6183": {
          "model_module": "@jupyter-widgets/controls",
          "model_module_version": "1.5.0",
          "model_name": "LabelModel",
          "state": {
            "_dom_classes": [],
            "_model_module": "@jupyter-widgets/controls",
            "_model_module_version": "1.5.0",
            "_model_name": "LabelModel",
            "_view_count": null,
            "_view_module": "@jupyter-widgets/controls",
            "_view_module_version": "1.5.0",
            "_view_name": "LabelView",
            "description": "",
            "description_tooltip": null,
            "layout": "IPY_MODEL_82f3cd0cadd844ee86a626a0bfbc537c",
            "placeholder": "​",
            "style": "IPY_MODEL_1043f7f473e0423cbcef4afb6b4af59d",
            "value": "ORIGEM:"
          }
        },
        "0fb5dd84a7fb4d919277959da6cf0f66": {
          "model_module": "@jupyter-widgets/base",
          "model_module_version": "1.2.0",
          "model_name": "LayoutModel",
          "state": {
            "_model_module": "@jupyter-widgets/base",
            "_model_module_version": "1.2.0",
            "_model_name": "LayoutModel",
            "_view_count": null,
            "_view_module": "@jupyter-widgets/base",
            "_view_module_version": "1.2.0",
            "_view_name": "LayoutView",
            "align_content": null,
            "align_items": null,
            "align_self": null,
            "border": null,
            "bottom": null,
            "display": null,
            "flex": null,
            "flex_flow": null,
            "grid_area": null,
            "grid_auto_columns": null,
            "grid_auto_flow": null,
            "grid_auto_rows": null,
            "grid_column": null,
            "grid_gap": null,
            "grid_row": null,
            "grid_template_areas": null,
            "grid_template_columns": null,
            "grid_template_rows": null,
            "height": null,
            "justify_content": null,
            "justify_items": null,
            "left": null,
            "margin": null,
            "max_height": null,
            "max_width": null,
            "min_height": null,
            "min_width": null,
            "object_fit": null,
            "object_position": null,
            "order": null,
            "overflow": null,
            "overflow_x": null,
            "overflow_y": null,
            "padding": null,
            "right": null,
            "top": null,
            "visibility": null,
            "width": null
          }
        },
        "1043f7f473e0423cbcef4afb6b4af59d": {
          "model_module": "@jupyter-widgets/controls",
          "model_module_version": "1.5.0",
          "model_name": "DescriptionStyleModel",
          "state": {
            "_model_module": "@jupyter-widgets/controls",
            "_model_module_version": "1.5.0",
            "_model_name": "DescriptionStyleModel",
            "_view_count": null,
            "_view_module": "@jupyter-widgets/base",
            "_view_module_version": "1.2.0",
            "_view_name": "StyleView",
            "description_width": ""
          }
        },
        "13089ddc04054150914d431da367f087": {
          "model_module": "@jupyter-widgets/base",
          "model_module_version": "1.2.0",
          "model_name": "LayoutModel",
          "state": {
            "_model_module": "@jupyter-widgets/base",
            "_model_module_version": "1.2.0",
            "_model_name": "LayoutModel",
            "_view_count": null,
            "_view_module": "@jupyter-widgets/base",
            "_view_module_version": "1.2.0",
            "_view_name": "LayoutView",
            "align_content": null,
            "align_items": null,
            "align_self": null,
            "border": null,
            "bottom": null,
            "display": null,
            "flex": null,
            "flex_flow": null,
            "grid_area": null,
            "grid_auto_columns": null,
            "grid_auto_flow": null,
            "grid_auto_rows": null,
            "grid_column": null,
            "grid_gap": null,
            "grid_row": null,
            "grid_template_areas": null,
            "grid_template_columns": null,
            "grid_template_rows": null,
            "height": null,
            "justify_content": null,
            "justify_items": null,
            "left": null,
            "margin": null,
            "max_height": null,
            "max_width": null,
            "min_height": null,
            "min_width": null,
            "object_fit": null,
            "object_position": null,
            "order": null,
            "overflow": null,
            "overflow_x": null,
            "overflow_y": null,
            "padding": null,
            "right": null,
            "top": null,
            "visibility": null,
            "width": null
          }
        },
        "24ceba96ae024c0fa27559e31fab4515": {
          "model_module": "@jupyter-widgets/base",
          "model_module_version": "1.2.0",
          "model_name": "LayoutModel",
          "state": {
            "_model_module": "@jupyter-widgets/base",
            "_model_module_version": "1.2.0",
            "_model_name": "LayoutModel",
            "_view_count": null,
            "_view_module": "@jupyter-widgets/base",
            "_view_module_version": "1.2.0",
            "_view_name": "LayoutView",
            "align_content": null,
            "align_items": null,
            "align_self": null,
            "border": null,
            "bottom": null,
            "display": null,
            "flex": null,
            "flex_flow": null,
            "grid_area": null,
            "grid_auto_columns": null,
            "grid_auto_flow": null,
            "grid_auto_rows": null,
            "grid_column": null,
            "grid_gap": null,
            "grid_row": null,
            "grid_template_areas": null,
            "grid_template_columns": null,
            "grid_template_rows": null,
            "height": null,
            "justify_content": null,
            "justify_items": null,
            "left": null,
            "margin": null,
            "max_height": null,
            "max_width": null,
            "min_height": null,
            "min_width": null,
            "object_fit": null,
            "object_position": null,
            "order": null,
            "overflow": null,
            "overflow_x": null,
            "overflow_y": null,
            "padding": null,
            "right": null,
            "top": null,
            "visibility": null,
            "width": null
          }
        },
        "27eb82b58caa47639f8b31b28e82f464": {
          "model_module": "@jupyter-widgets/base",
          "model_module_version": "1.2.0",
          "model_name": "LayoutModel",
          "state": {
            "_model_module": "@jupyter-widgets/base",
            "_model_module_version": "1.2.0",
            "_model_name": "LayoutModel",
            "_view_count": null,
            "_view_module": "@jupyter-widgets/base",
            "_view_module_version": "1.2.0",
            "_view_name": "LayoutView",
            "align_content": null,
            "align_items": null,
            "align_self": null,
            "border": null,
            "bottom": null,
            "display": null,
            "flex": null,
            "flex_flow": null,
            "grid_area": null,
            "grid_auto_columns": null,
            "grid_auto_flow": null,
            "grid_auto_rows": null,
            "grid_column": null,
            "grid_gap": null,
            "grid_row": null,
            "grid_template_areas": null,
            "grid_template_columns": null,
            "grid_template_rows": null,
            "height": null,
            "justify_content": null,
            "justify_items": null,
            "left": null,
            "margin": null,
            "max_height": null,
            "max_width": null,
            "min_height": null,
            "min_width": null,
            "object_fit": null,
            "object_position": null,
            "order": null,
            "overflow": null,
            "overflow_x": null,
            "overflow_y": null,
            "padding": null,
            "right": null,
            "top": null,
            "visibility": null,
            "width": null
          }
        },
        "41af83a9559f403a943330fa97bf2019": {
          "model_module": "@jupyter-widgets/controls",
          "model_module_version": "1.5.0",
          "model_name": "DescriptionStyleModel",
          "state": {
            "_model_module": "@jupyter-widgets/controls",
            "_model_module_version": "1.5.0",
            "_model_name": "DescriptionStyleModel",
            "_view_count": null,
            "_view_module": "@jupyter-widgets/base",
            "_view_module_version": "1.2.0",
            "_view_name": "StyleView",
            "description_width": ""
          }
        },
        "6b81903bd1a24ffdb7ee5738536d102a": {
          "model_module": "@jupyter-widgets/base",
          "model_module_version": "1.2.0",
          "model_name": "LayoutModel",
          "state": {
            "_model_module": "@jupyter-widgets/base",
            "_model_module_version": "1.2.0",
            "_model_name": "LayoutModel",
            "_view_count": null,
            "_view_module": "@jupyter-widgets/base",
            "_view_module_version": "1.2.0",
            "_view_name": "LayoutView",
            "align_content": null,
            "align_items": null,
            "align_self": null,
            "border": null,
            "bottom": null,
            "display": null,
            "flex": null,
            "flex_flow": null,
            "grid_area": null,
            "grid_auto_columns": null,
            "grid_auto_flow": null,
            "grid_auto_rows": null,
            "grid_column": null,
            "grid_gap": null,
            "grid_row": null,
            "grid_template_areas": null,
            "grid_template_columns": null,
            "grid_template_rows": null,
            "height": null,
            "justify_content": null,
            "justify_items": null,
            "left": null,
            "margin": null,
            "max_height": null,
            "max_width": null,
            "min_height": null,
            "min_width": null,
            "object_fit": null,
            "object_position": null,
            "order": null,
            "overflow": null,
            "overflow_x": null,
            "overflow_y": null,
            "padding": null,
            "right": null,
            "top": null,
            "visibility": null,
            "width": null
          }
        },
        "82f3cd0cadd844ee86a626a0bfbc537c": {
          "model_module": "@jupyter-widgets/base",
          "model_module_version": "1.2.0",
          "model_name": "LayoutModel",
          "state": {
            "_model_module": "@jupyter-widgets/base",
            "_model_module_version": "1.2.0",
            "_model_name": "LayoutModel",
            "_view_count": null,
            "_view_module": "@jupyter-widgets/base",
            "_view_module_version": "1.2.0",
            "_view_name": "LayoutView",
            "align_content": null,
            "align_items": null,
            "align_self": null,
            "border": null,
            "bottom": null,
            "display": null,
            "flex": null,
            "flex_flow": null,
            "grid_area": null,
            "grid_auto_columns": null,
            "grid_auto_flow": null,
            "grid_auto_rows": null,
            "grid_column": null,
            "grid_gap": null,
            "grid_row": null,
            "grid_template_areas": null,
            "grid_template_columns": null,
            "grid_template_rows": null,
            "height": null,
            "justify_content": null,
            "justify_items": null,
            "left": null,
            "margin": null,
            "max_height": null,
            "max_width": null,
            "min_height": null,
            "min_width": null,
            "object_fit": null,
            "object_position": null,
            "order": null,
            "overflow": null,
            "overflow_x": null,
            "overflow_y": null,
            "padding": null,
            "right": null,
            "top": null,
            "visibility": null,
            "width": null
          }
        },
        "924513a41f6d4ce7897a0895b7940455": {
          "model_module": "@jupyter-widgets/controls",
          "model_module_version": "1.5.0",
          "model_name": "ButtonStyleModel",
          "state": {
            "_model_module": "@jupyter-widgets/controls",
            "_model_module_version": "1.5.0",
            "_model_name": "ButtonStyleModel",
            "_view_count": null,
            "_view_module": "@jupyter-widgets/base",
            "_view_module_version": "1.2.0",
            "_view_name": "StyleView",
            "button_color": null,
            "font_weight": ""
          }
        },
        "9f9bc08ab1b3458fa4494c55f7310ee9": {
          "model_module": "@jupyter-widgets/controls",
          "model_module_version": "1.5.0",
          "model_name": "HBoxModel",
          "state": {
            "_dom_classes": [],
            "_model_module": "@jupyter-widgets/controls",
            "_model_module_version": "1.5.0",
            "_model_name": "HBoxModel",
            "_view_count": null,
            "_view_module": "@jupyter-widgets/controls",
            "_view_module_version": "1.5.0",
            "_view_name": "HBoxView",
            "box_style": "",
            "children": [
              "IPY_MODEL_042f8927985b42548d5b3e0b8b7d6183",
              "IPY_MODEL_e401d46cd7574827bf97c9860ca3c427",
              "IPY_MODEL_bda20907ae7947e7a4fc257c42bd800c"
            ],
            "layout": "IPY_MODEL_0fb5dd84a7fb4d919277959da6cf0f66"
          }
        },
        "9ff3efba3bc4476c89892649a49c1818": {
          "model_module": "@jupyter-widgets/controls",
          "model_module_version": "1.5.0",
          "model_name": "VBoxModel",
          "state": {
            "_dom_classes": [],
            "_model_module": "@jupyter-widgets/controls",
            "_model_module_version": "1.5.0",
            "_model_name": "VBoxModel",
            "_view_count": null,
            "_view_module": "@jupyter-widgets/controls",
            "_view_module_version": "1.5.0",
            "_view_name": "VBoxView",
            "box_style": "",
            "children": [
              "IPY_MODEL_be4ee7a6298c4ac091472b12472da5e9",
              "IPY_MODEL_9f9bc08ab1b3458fa4494c55f7310ee9",
              "IPY_MODEL_b64c53299fd34851b279f5170913cf8c"
            ],
            "layout": "IPY_MODEL_db1fd020eb8142ba9e197fb59735c67a"
          }
        },
        "a520078329814c7e97f615a3d61d3131": {
          "model_module": "@jupyter-widgets/controls",
          "model_module_version": "1.5.0",
          "model_name": "DescriptionStyleModel",
          "state": {
            "_model_module": "@jupyter-widgets/controls",
            "_model_module_version": "1.5.0",
            "_model_name": "DescriptionStyleModel",
            "_view_count": null,
            "_view_module": "@jupyter-widgets/base",
            "_view_module_version": "1.2.0",
            "_view_name": "StyleView",
            "description_width": ""
          }
        },
        "a5ad18842c2d41278fe56a4a6842ff16": {
          "model_module": "@jupyter-widgets/controls",
          "model_module_version": "1.5.0",
          "model_name": "DescriptionStyleModel",
          "state": {
            "_model_module": "@jupyter-widgets/controls",
            "_model_module_version": "1.5.0",
            "_model_name": "DescriptionStyleModel",
            "_view_count": null,
            "_view_module": "@jupyter-widgets/base",
            "_view_module_version": "1.2.0",
            "_view_name": "StyleView",
            "description_width": ""
          }
        },
        "b64c53299fd34851b279f5170913cf8c": {
          "model_module": "@jupyter-widgets/output",
          "model_module_version": "1.0.0",
          "model_name": "OutputModel",
          "state": {
            "_dom_classes": [],
            "_model_module": "@jupyter-widgets/output",
            "_model_module_version": "1.0.0",
            "_model_name": "OutputModel",
            "_view_count": null,
            "_view_module": "@jupyter-widgets/output",
            "_view_module_version": "1.0.0",
            "_view_name": "OutputView",
            "layout": "IPY_MODEL_c13024d14129477098e41be26736452e",
            "msg_id": "",
            "outputs": [
              {
                "name": "stdout",
                "output_type": "stream",
                "text": [
                  "Caminho localizado \n",
                  "****************************************************************\n",
                  "LEO EDWARD SZLEZYNGER***251508**\n",
                  "\n",
                  "\n"
                ]
              }
            ]
          }
        },
        "bce02350b5da46c18df9e40b5b7f138c": {
          "model_module": "@jupyter-widgets/controls",
          "model_module_version": "1.5.0",
          "model_name": "LabelModel",
          "state": {
            "_dom_classes": [],
            "_model_module": "@jupyter-widgets/controls",
            "_model_module_version": "1.5.0",
            "_model_name": "LabelModel",
            "_view_count": null,
            "_view_module": "@jupyter-widgets/controls",
            "_view_module_version": "1.5.0",
            "_view_name": "LabelView",
            "description": "",
            "description_tooltip": null,
            "layout": "IPY_MODEL_27eb82b58caa47639f8b31b28e82f464",
            "placeholder": "​",
            "style": "IPY_MODEL_41af83a9559f403a943330fa97bf2019",
            "value": "ALVO:"
          }
        },
        "bda20907ae7947e7a4fc257c42bd800c": {
          "model_module": "@jupyter-widgets/controls",
          "model_module_version": "1.5.0",
          "model_name": "ButtonModel",
          "state": {
            "_dom_classes": [],
            "_model_module": "@jupyter-widgets/controls",
            "_model_module_version": "1.5.0",
            "_model_name": "ButtonModel",
            "_view_count": null,
            "_view_module": "@jupyter-widgets/controls",
            "_view_module_version": "1.5.0",
            "_view_name": "ButtonView",
            "button_style": "",
            "description": "PESQUISAR",
            "disabled": false,
            "icon": "search",
            "layout": "IPY_MODEL_13089ddc04054150914d431da367f087",
            "style": "IPY_MODEL_924513a41f6d4ce7897a0895b7940455",
            "tooltip": ""
          }
        },
        "be4ee7a6298c4ac091472b12472da5e9": {
          "model_module": "@jupyter-widgets/controls",
          "model_module_version": "1.5.0",
          "model_name": "HBoxModel",
          "state": {
            "_dom_classes": [],
            "_model_module": "@jupyter-widgets/controls",
            "_model_module_version": "1.5.0",
            "_model_name": "HBoxModel",
            "_view_count": null,
            "_view_module": "@jupyter-widgets/controls",
            "_view_module_version": "1.5.0",
            "_view_name": "HBoxView",
            "box_style": "",
            "children": [
              "IPY_MODEL_bce02350b5da46c18df9e40b5b7f138c",
              "IPY_MODEL_c76c0b471aa546e298cdd3338a03f21b"
            ],
            "layout": "IPY_MODEL_6b81903bd1a24ffdb7ee5738536d102a"
          }
        },
        "c13024d14129477098e41be26736452e": {
          "model_module": "@jupyter-widgets/base",
          "model_module_version": "1.2.0",
          "model_name": "LayoutModel",
          "state": {
            "_model_module": "@jupyter-widgets/base",
            "_model_module_version": "1.2.0",
            "_model_name": "LayoutModel",
            "_view_count": null,
            "_view_module": "@jupyter-widgets/base",
            "_view_module_version": "1.2.0",
            "_view_name": "LayoutView",
            "align_content": null,
            "align_items": null,
            "align_self": null,
            "border": "1px solid black",
            "bottom": null,
            "display": null,
            "flex": null,
            "flex_flow": null,
            "grid_area": null,
            "grid_auto_columns": null,
            "grid_auto_flow": null,
            "grid_auto_rows": null,
            "grid_column": null,
            "grid_gap": null,
            "grid_row": null,
            "grid_template_areas": null,
            "grid_template_columns": null,
            "grid_template_rows": null,
            "height": null,
            "justify_content": null,
            "justify_items": null,
            "left": null,
            "margin": null,
            "max_height": null,
            "max_width": null,
            "min_height": null,
            "min_width": null,
            "object_fit": null,
            "object_position": null,
            "order": null,
            "overflow": null,
            "overflow_x": null,
            "overflow_y": null,
            "padding": null,
            "right": null,
            "top": null,
            "visibility": null,
            "width": null
          }
        },
        "c76c0b471aa546e298cdd3338a03f21b": {
          "model_module": "@jupyter-widgets/controls",
          "model_module_version": "1.5.0",
          "model_name": "TextModel",
          "state": {
            "_dom_classes": [],
            "_model_module": "@jupyter-widgets/controls",
            "_model_module_version": "1.5.0",
            "_model_name": "TextModel",
            "_view_count": null,
            "_view_module": "@jupyter-widgets/controls",
            "_view_module_version": "1.5.0",
            "_view_name": "TextView",
            "continuous_update": true,
            "description": "",
            "description_tooltip": null,
            "disabled": false,
            "layout": "IPY_MODEL_24ceba96ae024c0fa27559e31fab4515",
            "placeholder": "​",
            "style": "IPY_MODEL_a520078329814c7e97f615a3d61d3131",
            "value": ""
          }
        },
        "db1fd020eb8142ba9e197fb59735c67a": {
          "model_module": "@jupyter-widgets/base",
          "model_module_version": "1.2.0",
          "model_name": "LayoutModel",
          "state": {
            "_model_module": "@jupyter-widgets/base",
            "_model_module_version": "1.2.0",
            "_model_name": "LayoutModel",
            "_view_count": null,
            "_view_module": "@jupyter-widgets/base",
            "_view_module_version": "1.2.0",
            "_view_name": "LayoutView",
            "align_content": null,
            "align_items": null,
            "align_self": null,
            "border": null,
            "bottom": null,
            "display": null,
            "flex": null,
            "flex_flow": null,
            "grid_area": null,
            "grid_auto_columns": null,
            "grid_auto_flow": null,
            "grid_auto_rows": null,
            "grid_column": null,
            "grid_gap": null,
            "grid_row": null,
            "grid_template_areas": null,
            "grid_template_columns": null,
            "grid_template_rows": null,
            "height": null,
            "justify_content": null,
            "justify_items": null,
            "left": null,
            "margin": null,
            "max_height": null,
            "max_width": null,
            "min_height": null,
            "min_width": null,
            "object_fit": null,
            "object_position": null,
            "order": null,
            "overflow": null,
            "overflow_x": null,
            "overflow_y": null,
            "padding": null,
            "right": null,
            "top": null,
            "visibility": null,
            "width": null
          }
        },
        "e401d46cd7574827bf97c9860ca3c427": {
          "model_module": "@jupyter-widgets/controls",
          "model_module_version": "1.5.0",
          "model_name": "TextModel",
          "state": {
            "_dom_classes": [],
            "_model_module": "@jupyter-widgets/controls",
            "_model_module_version": "1.5.0",
            "_model_name": "TextModel",
            "_view_count": null,
            "_view_module": "@jupyter-widgets/controls",
            "_view_module_version": "1.5.0",
            "_view_name": "TextView",
            "continuous_update": true,
            "description": "",
            "description_tooltip": null,
            "disabled": false,
            "layout": "IPY_MODEL_ef2b1960c8914f19988072491971bdd4",
            "placeholder": "​",
            "style": "IPY_MODEL_a5ad18842c2d41278fe56a4a6842ff16",
            "value": ""
          }
        },
        "ef2b1960c8914f19988072491971bdd4": {
          "model_module": "@jupyter-widgets/base",
          "model_module_version": "1.2.0",
          "model_name": "LayoutModel",
          "state": {
            "_model_module": "@jupyter-widgets/base",
            "_model_module_version": "1.2.0",
            "_model_name": "LayoutModel",
            "_view_count": null,
            "_view_module": "@jupyter-widgets/base",
            "_view_module_version": "1.2.0",
            "_view_name": "LayoutView",
            "align_content": null,
            "align_items": null,
            "align_self": null,
            "border": null,
            "bottom": null,
            "display": null,
            "flex": null,
            "flex_flow": null,
            "grid_area": null,
            "grid_auto_columns": null,
            "grid_auto_flow": null,
            "grid_auto_rows": null,
            "grid_column": null,
            "grid_gap": null,
            "grid_row": null,
            "grid_template_areas": null,
            "grid_template_columns": null,
            "grid_template_rows": null,
            "height": null,
            "justify_content": null,
            "justify_items": null,
            "left": null,
            "margin": null,
            "max_height": null,
            "max_width": null,
            "min_height": null,
            "min_width": null,
            "object_fit": null,
            "object_position": null,
            "order": null,
            "overflow": null,
            "overflow_x": null,
            "overflow_y": null,
            "padding": null,
            "right": null,
            "top": null,
            "visibility": null,
            "width": null
          }
        }
      }
    }
  },
  "nbformat": 4,
  "nbformat_minor": 0
}
