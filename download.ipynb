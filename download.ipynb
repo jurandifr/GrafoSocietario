{
 "cells": [
  {
   "attachments": {},
   "cell_type": "markdown",
   "metadata": {},
   "source": [
    "# Download"
   ]
  },
  {
   "cell_type": "code",
   "execution_count": 4,
   "metadata": {},
   "outputs": [],
   "source": [
    "import requests\n",
    "import re\n",
    "from concurrent.futures import ThreadPoolExecutor, as_completed\n",
    "from tqdm.notebook import tqdm, trange\n",
    "from bs4 import BeautifulSoup as bs\n",
    "import os\n",
    "import sqlalchemy as sa\n",
    "import zipfile\n",
    "import dask.dataframe as dd"
   ]
  },
  {
   "cell_type": "code",
   "execution_count": 5,
   "metadata": {},
   "outputs": [],
   "source": [
    "# configuacoes\n",
    "urlbase = \"https://dadosabertos.rfb.gov.br/CNPJ/\"\n",
    "uri_sqlite ='sqlite:///base_receita20230315.db' #'sqlite:///base_receitaYYYYMMDD.db'\n",
    "dirpath= \"downloads/\" # vai criar a pasta se ela não existir\n",
    "if not os.path.exists(dirpath):\n",
    "    os.makedirs(dirpath)"
   ]
  },
  {
   "cell_type": "code",
   "execution_count": 6,
   "metadata": {},
   "outputs": [],
   "source": [
    "def mapp(fn,data, workers=8):\n",
    "  tasks=[]\n",
    "  out = []\n",
    "  with ThreadPoolExecutor(max_workers=workers) as tex:\n",
    "    tasks=[tex.submit(fn,i) for i in data]\n",
    "  for task in as_completed(tasks):\n",
    "    out.append(task.result())\n",
    "  return out"
   ]
  },
  {
   "cell_type": "code",
   "execution_count": 7,
   "metadata": {},
   "outputs": [],
   "source": [
    "def downloader(url):\n",
    "    try:\n",
    "        r = requests.get(url, stream=True)\n",
    "        total = int(r.headers.get('content-length', 0))\n",
    "        if \"Content-Disposition\" in r.headers.keys():\n",
    "            fname = re.findall(\"filename=(.+)\", r.headers[\"Content-Disposition\"])[0]\n",
    "        else:\n",
    "            fname = url.split(\"/\")[-1]\n",
    "        with open(dirpath+fname, 'wb') as file, tqdm(desc=fname, total=total, unit='iB', unit_scale=True, unit_divisor=1024) as bar:\n",
    "            for data in r.iter_content(chunk_size=1024):\n",
    "                size = file.write(data)\n",
    "                bar.update(size)\n",
    "    except Exception as inst:\n",
    "        print(inst)          # __str__ allows args to be printed directly,    \n",
    "    finally:\n",
    "        return [str(r.status_code), url]"
   ]
  },
  {
   "cell_type": "code",
   "execution_count": 8,
   "metadata": {},
   "outputs": [],
   "source": [
    "filelist = list( filter( lambda s: s.find(\".\")>0,\n",
    "                        [tag.attrs['href'] for tag in bs(requests.get(urlbase).content).find_all('a')]))"
   ]
  },
  {
   "cell_type": "code",
   "execution_count": 9,
   "metadata": {},
   "outputs": [],
   "source": [
    "urllist = [urlbase+f for f in filelist]\n",
    "urllist = list(filter(lambda s:s.find(\"Socio\")>0 ,urllist))"
   ]
  },
  {
   "cell_type": "code",
   "execution_count": 7,
   "metadata": {},
   "outputs": [
    {
     "data": {
      "application/vnd.jupyter.widget-view+json": {
       "model_id": "78c8e02283d6459e960d7515c3429a5e",
       "version_major": 2,
       "version_minor": 0
      },
      "text/plain": [
       "Socios3.zip:   0%|          | 0.00/46.8M [00:00<?, ?iB/s]"
      ]
     },
     "metadata": {},
     "output_type": "display_data"
    },
    {
     "data": {
      "application/vnd.jupyter.widget-view+json": {
       "model_id": "bad7b7885b2042a6a28f999f4f0c82b8",
       "version_major": 2,
       "version_minor": 0
      },
      "text/plain": [
       "Socios6.zip:   0%|          | 0.00/46.8M [00:00<?, ?iB/s]"
      ]
     },
     "metadata": {},
     "output_type": "display_data"
    },
    {
     "data": {
      "application/vnd.jupyter.widget-view+json": {
       "model_id": "210b877d0a3442359058e80ded246bec",
       "version_major": 2,
       "version_minor": 0
      },
      "text/plain": [
       "Socios2.zip:   0%|          | 0.00/46.9M [00:00<?, ?iB/s]"
      ]
     },
     "metadata": {},
     "output_type": "display_data"
    },
    {
     "data": {
      "application/vnd.jupyter.widget-view+json": {
       "model_id": "9adb48f3c7874a6dba41f93dcf962fc7",
       "version_major": 2,
       "version_minor": 0
      },
      "text/plain": [
       "Socios4.zip:   0%|          | 0.00/46.9M [00:00<?, ?iB/s]"
      ]
     },
     "metadata": {},
     "output_type": "display_data"
    },
    {
     "data": {
      "application/vnd.jupyter.widget-view+json": {
       "model_id": "4fb0e5110e4243d487334bf03717151e",
       "version_major": 2,
       "version_minor": 0
      },
      "text/plain": [
       "Socios1.zip:   0%|          | 0.00/47.0M [00:00<?, ?iB/s]"
      ]
     },
     "metadata": {},
     "output_type": "display_data"
    },
    {
     "data": {
      "application/vnd.jupyter.widget-view+json": {
       "model_id": "0009c11f9b81426d914af2ddfd07aa6e",
       "version_major": 2,
       "version_minor": 0
      },
      "text/plain": [
       "Socios0.zip:   0%|          | 0.00/102M [00:00<?, ?iB/s]"
      ]
     },
     "metadata": {},
     "output_type": "display_data"
    },
    {
     "data": {
      "application/vnd.jupyter.widget-view+json": {
       "model_id": "7de927687d114db4bbd34bed758f6034",
       "version_major": 2,
       "version_minor": 0
      },
      "text/plain": [
       "Socios5.zip:   0%|          | 0.00/46.9M [00:00<?, ?iB/s]"
      ]
     },
     "metadata": {},
     "output_type": "display_data"
    },
    {
     "data": {
      "application/vnd.jupyter.widget-view+json": {
       "model_id": "0091ddae646d415590d3e9bfd4bd133b",
       "version_major": 2,
       "version_minor": 0
      },
      "text/plain": [
       "Socios7.zip:   0%|          | 0.00/46.8M [00:00<?, ?iB/s]"
      ]
     },
     "metadata": {},
     "output_type": "display_data"
    },
    {
     "data": {
      "application/vnd.jupyter.widget-view+json": {
       "model_id": "5e5d617b098d4733822760d4719c4687",
       "version_major": 2,
       "version_minor": 0
      },
      "text/plain": [
       "Socios8.zip:   0%|          | 0.00/46.8M [00:00<?, ?iB/s]"
      ]
     },
     "metadata": {},
     "output_type": "display_data"
    },
    {
     "data": {
      "application/vnd.jupyter.widget-view+json": {
       "model_id": "fea09953751d4503bcca753e8a9b3c29",
       "version_major": 2,
       "version_minor": 0
      },
      "text/plain": [
       "Socios9.zip:   0%|          | 0.00/46.8M [00:00<?, ?iB/s]"
      ]
     },
     "metadata": {},
     "output_type": "display_data"
    }
   ],
   "source": [
    "res = mapp(downloader,urllist) if input(\"Tem certeza? S/N\").upper() == \"S\" else \"Cancelado\"\n",
    "# se der erro em algum basta usar o downloader\n",
    "# downloader(urllist[0])"
   ]
  },
  {
   "attachments": {},
   "cell_type": "markdown",
   "metadata": {},
   "source": [
    "# Upload"
   ]
  },
  {
   "attachments": {},
   "cell_type": "markdown",
   "metadata": {},
   "source": [
    "## Configurações e Funções"
   ]
  },
  {
   "cell_type": "code",
   "execution_count": 10,
   "metadata": {},
   "outputs": [],
   "source": [
    "dirlist= os.listdir(dirpath)\n",
    "engine = sa.create_engine(uri_sqlite)\n",
    "engine.connect().close() #test"
   ]
  },
  {
   "cell_type": "code",
   "execution_count": 11,
   "metadata": {},
   "outputs": [],
   "source": [
    "def upload(local, table, dcol):\n",
    "    colunas=list(dcol.keys())\n",
    "    with engine.connect() as c:\n",
    "        c.execute(sa.text(\"DROP TABLE IF EXISTS \\\"\" + table + \"\\\"\"))\n",
    "        block='default' if local.find('.zip') < 0 else None\n",
    "        df = dd.read_csv(local, header=None, encoding='latin1', sep=\";\", decimal=\",\", names=colunas, dtype=dcol, blocksize=block)\n",
    "    for n in trange(df.npartitions, desc=table):\n",
    "        df.get_partition(n).compute().to_sql( name=table, con=engine, if_exists= 'append', chunksize=1000, index=False)\n",
    "    with engine.connect() as c:\n",
    "         c.execute(sa.text(\"CREATE INDEX IF NOT EXISTS idx_\" + table + \" ON \\\"\" + table + \"\\\" (\\\"\" + df.columns[0] + \"\\\")\"))"
   ]
  },
  {
   "cell_type": "code",
   "execution_count": 12,
   "metadata": {},
   "outputs": [],
   "source": [
    "def extract(flist,filtro):\n",
    "    filenames=[]\n",
    "    files=list(filter(lambda x: not x.find(filtro), dirlist))\n",
    "    for filename in files:\n",
    "            zip=zipfile.ZipFile(dirpath+filename)\n",
    "            filenames.append(dirpath+zip.filelist[0].filename)\n",
    "            zip.extractall(path=dirpath)\n",
    "    return filenames\n",
    "\n",
    "def remove(flist):\n",
    "    for f in flist:\n",
    "            os.remove(f)"
   ]
  },
  {
   "attachments": {},
   "cell_type": "markdown",
   "metadata": {},
   "source": [
    "## Começo do Upload"
   ]
  },
  {
   "cell_type": "code",
   "execution_count": 31,
   "metadata": {},
   "outputs": [
    {
     "data": {
      "application/vnd.jupyter.widget-view+json": {
       "model_id": "fda5989a56934e64ae48ce545a6b8cdf",
       "version_major": 2,
       "version_minor": 0
      },
      "text/plain": [
       "SOCIO:   0%|          | 0/33 [00:00<?, ?it/s]"
      ]
     },
     "metadata": {},
     "output_type": "display_data"
    }
   ],
   "source": [
    "lista= extract(dirlist,\"Socios\")\n",
    "#socios\n",
    "dcol={\"CNPJ_BASICO\":\"int\",\"ID_TIPO_SOCIO\":\"int\",\"NOME_OU_RAZAO_SOCIAL\":\"str\",\"CNPJ_CPF\":\"str\",\"QUALIF_SOCIO\":\"int\",\n",
    "         \"DT_ENTRADA\":\"int\",\"CD_PAIS\":\"Int64\",\"REPR_LEGAL\":\"str\",\"NM_REPR\":\"str\",\"CD_QUALIF_REPR\":\"int\",\"FAIXA_ETARIA\":\"int\"}\n",
    "local=dirpath+'*.SOCIOCSV'\n",
    "table='SOCIO'\n",
    "upload(local, table, dcol)\n",
    "remove(lista)"
   ]
  },
  {
   "cell_type": "code",
   "execution_count": 22,
   "metadata": {},
   "outputs": [
    {
     "name": "stdout",
     "output_type": "stream",
     "text": [
      "Cancelado\n"
     ]
    }
   ],
   "source": [
    "if input(\"Tem certeza? S/N\").upper() == \"S\":\n",
    "    remove([dirpath+f for f in filter(lambda x: x.find(\".zip\") > 0,dirlist)])\n",
    "else:\n",
    "    print(\"Cancelado\")"
   ]
  },
  {
   "attachments": {},
   "cell_type": "markdown",
   "metadata": {},
   "source": [
    "## Criando a View para o Grapho"
   ]
  },
  {
   "cell_type": "code",
   "execution_count": 14,
   "metadata": {},
   "outputs": [],
   "source": [
    "# query = '''SELECT \n",
    "#     name\n",
    "# FROM \n",
    "#     sqlite_schema\n",
    "# WHERE \n",
    "#     type ='table' AND \n",
    "#     name NOT LIKE 'sqlite_%' AND\n",
    "#     name='SOCIO';'''\n",
    "# with engine.connect() as c:\n",
    "#     res=c.execute(sa.text(query)).fetchall()"
   ]
  },
  {
   "cell_type": "code",
   "execution_count": 19,
   "metadata": {},
   "outputs": [],
   "source": [
    "query = '''\n",
    "CREATE view if not exists grapho as\n",
    "SELECT\n",
    "\tSUBSTR(\"0000000\" || CNPJ_BASICO,-8) as A,\n",
    "\t(case\n",
    "\t\twhen CNPJ_CPF LIKE '***%' then (NOME_OU_RAZAO_SOCIAL || \" - \" || CNPJ_CPF)\n",
    "\t\telse SUBSTR(CNPJ_CPF, 1, 8) end) as B\n",
    "FROM SOCIO\n",
    "union all\n",
    "SELECT\n",
    "\tSUBSTR(\"0000000\" || CNPJ_BASICO,-8) as A,\n",
    "\t(case\n",
    "\t\twhen CNPJ_CPF LIKE '***%' then (NM_REPR || \" - \" || REPR_LEGAL)\n",
    "\t\telse SUBSTR(CNPJ_CPF, 1, 8) end) as B\n",
    "FROM SOCIO\n",
    "WHERE NM_REPR is not null;\n",
    "'''\n",
    "engine.connect().execute(sa.text(query)).close()"
   ]
  },
  {
   "cell_type": "markdown",
   "metadata": {},
   "source": []
  },
  {
   "cell_type": "code",
   "execution_count": null,
   "metadata": {},
   "outputs": [],
   "source": []
  }
 ],
 "metadata": {
  "kernelspec": {
   "display_name": "Python 3",
   "language": "python",
   "name": "python3"
  },
  "language_info": {
   "codemirror_mode": {
    "name": "ipython",
    "version": 3
   },
   "file_extension": ".py",
   "mimetype": "text/x-python",
   "name": "python",
   "nbconvert_exporter": "python",
   "pygments_lexer": "ipython3",
   "version": "3.10.10"
  },
  "orig_nbformat": 4
 },
 "nbformat": 4,
 "nbformat_minor": 2
}
